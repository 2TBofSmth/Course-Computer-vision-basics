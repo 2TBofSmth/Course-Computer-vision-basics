{
 "cells": [
  {
   "metadata": {
    "ExecuteTime": {
     "end_time": "2024-12-26T19:39:05.901974Z",
     "start_time": "2024-12-26T19:39:05.888775Z"
    }
   },
   "cell_type": "code",
   "source": [
    "import cv2\n",
    "import numpy as np"
   ],
   "id": "a17a683dc8019600",
   "outputs": [],
   "execution_count": 40
  },
  {
   "metadata": {
    "ExecuteTime": {
     "end_time": "2024-12-26T19:39:06.152320Z",
     "start_time": "2024-12-26T19:39:05.908770Z"
    }
   },
   "cell_type": "code",
   "source": [
    "def to_grayscale(img):\n",
    "    height, width, _ = img.shape\n",
    "    grayscale_img = np.zeros((height, width), dtype=np.uint8)\n",
    "\n",
    "    for i in range(height):\n",
    "        for j in range(width):\n",
    "            pixel = img[i, j]\n",
    "            gray_value = 0.11 * pixel[0] + 0.53 * pixel[1] + 0.36 * pixel[2]\n",
    "            grayscale_img[i, j] = gray_value\n",
    "\n",
    "    return grayscale_img\n",
    "\n",
    "\n",
    "image = to_grayscale(cv2.imread('input_photos/img.png'))\n",
    "image = (image > 127).astype(np.uint8)"
   ],
   "id": "a13818eae4e77838",
   "outputs": [],
   "execution_count": 41
  },
  {
   "metadata": {
    "ExecuteTime": {
     "end_time": "2024-12-26T19:39:06.166163Z",
     "start_time": "2024-12-26T19:39:06.162145Z"
    }
   },
   "cell_type": "code",
   "source": [
    "kernel = np.array([[0, 1, 0],\n",
    "                   [1, 1, 1],\n",
    "                   [0, 1, 0]], np.uint8)"
   ],
   "id": "ebfa5bbaac72fc8c",
   "outputs": [],
   "execution_count": 42
  },
  {
   "metadata": {
    "ExecuteTime": {
     "end_time": "2024-12-26T19:39:06.179341Z",
     "start_time": "2024-12-26T19:39:06.175197Z"
    }
   },
   "cell_type": "code",
   "source": [
    "def prepare_for_convolution(img, krnl):\n",
    "    img_h, img_w = img.shape\n",
    "    kernel_h, kernel_w = krnl.shape\n",
    "    padding_h, padding_w = kernel_h // 2, kernel_w // 2\n",
    "\n",
    "    padded_img = np.pad(img, ((padding_h, padding_h), (padding_w, padding_w)), mode='constant')\n",
    "    output_img = np.zeros_like(img)\n",
    "\n",
    "    return img_h, img_w, padded_img, output_img, kernel_h, kernel_w"
   ],
   "id": "7abf90626bd70a64",
   "outputs": [],
   "execution_count": 43
  },
  {
   "metadata": {
    "ExecuteTime": {
     "end_time": "2024-12-26T19:39:06.557943Z",
     "start_time": "2024-12-26T19:39:06.201142Z"
    }
   },
   "cell_type": "code",
   "source": [
    "def erosion(img, krnl):\n",
    "\n",
    "    h, w, padded_img, result, k_h, k_w = prepare_for_convolution(img, krnl)\n",
    "\n",
    "    for i in range(h):\n",
    "        for j in range(w):\n",
    "            l = padded_img[i:i + k_h, j:j + k_w]\n",
    "\n",
    "            if np.all(l[krnl == 1] == 1):\n",
    "                result[i, j] = 1\n",
    "\n",
    "    return result\n",
    "\n",
    "cv2.imwrite('output_photos/erosion_image.png', erosion(image, kernel)*255)"
   ],
   "id": "1d36045eae2d08c8",
   "outputs": [
    {
     "data": {
      "text/plain": [
       "True"
      ]
     },
     "execution_count": 44,
     "metadata": {},
     "output_type": "execute_result"
    }
   ],
   "execution_count": 44
  },
  {
   "metadata": {
    "ExecuteTime": {
     "end_time": "2024-12-26T19:39:06.882269Z",
     "start_time": "2024-12-26T19:39:06.560810Z"
    }
   },
   "cell_type": "code",
   "source": [
    "def dilation(img, k):\n",
    "    h, w, padded_img, result, k_h, k_w = prepare_for_convolution(img, k)\n",
    "\n",
    "    for i in range(h):\n",
    "        for j in range(w):\n",
    "\n",
    "            l = padded_img[i:i + k_h, j:j + k_w]\n",
    "\n",
    "            if np.any(l[kernel == 1] > 0):\n",
    "                result[i, j] = 1\n",
    "\n",
    "    return result\n",
    "\n",
    "cv2.imwrite('output_photos/dilation_image.png', dilation(image, kernel)*255)"
   ],
   "id": "d9f31a967304bc98",
   "outputs": [
    {
     "data": {
      "text/plain": [
       "True"
      ]
     },
     "execution_count": 45,
     "metadata": {},
     "output_type": "execute_result"
    }
   ],
   "execution_count": 45
  },
  {
   "metadata": {
    "ExecuteTime": {
     "end_time": "2024-12-26T19:39:07.563231Z",
     "start_time": "2024-12-26T19:39:06.932132Z"
    }
   },
   "cell_type": "code",
   "source": [
    "def opening(img, krnl):\n",
    "    return dilation(erosion(img, krnl), krnl)\n",
    "\n",
    "cv2.imwrite('output_photos/opening_image.png', opening(image, kernel)*255)"
   ],
   "id": "494e9f2bbf32e620",
   "outputs": [
    {
     "data": {
      "text/plain": [
       "True"
      ]
     },
     "execution_count": 46,
     "metadata": {},
     "output_type": "execute_result"
    }
   ],
   "execution_count": 46
  },
  {
   "metadata": {
    "ExecuteTime": {
     "end_time": "2024-12-26T19:39:08.158584Z",
     "start_time": "2024-12-26T19:39:07.570244Z"
    }
   },
   "cell_type": "code",
   "source": [
    "def closing(img, krnl):\n",
    "    return erosion(dilation(img, krnl), krnl)\n",
    "\n",
    "cv2.imwrite('output_photos/closing_image.png', closing(image, kernel)*255)"
   ],
   "id": "6a160831e85596b",
   "outputs": [
    {
     "data": {
      "text/plain": [
       "True"
      ]
     },
     "execution_count": 47,
     "metadata": {},
     "output_type": "execute_result"
    }
   ],
   "execution_count": 47
  },
  {
   "metadata": {
    "ExecuteTime": {
     "end_time": "2024-12-26T19:39:08.491146Z",
     "start_time": "2024-12-26T19:39:08.186456Z"
    }
   },
   "cell_type": "code",
   "source": [
    "def boundaries(img, krnl):\n",
    "    erosion_img = erosion(img, krnl)\n",
    "    result = np.zeros_like(img)\n",
    "\n",
    "    for i in range(img.shape[0]):\n",
    "        for j in range(img.shape[1]):\n",
    "            if image[i, j] == 1 and erosion_img[i, j] == 0:\n",
    "                result[i, j] = 1\n",
    "\n",
    "    return result\n",
    "\n",
    "cv2.imwrite('output_photos/boundaries_image.png', boundaries(image, kernel)*255)"
   ],
   "id": "31cf735bb772ef4b",
   "outputs": [
    {
     "data": {
      "text/plain": [
       "True"
      ]
     },
     "execution_count": 48,
     "metadata": {},
     "output_type": "execute_result"
    }
   ],
   "execution_count": 48
  }
 ],
 "metadata": {
  "kernelspec": {
   "display_name": "Python 3",
   "language": "python",
   "name": "python3"
  },
  "language_info": {
   "codemirror_mode": {
    "name": "ipython",
    "version": 2
   },
   "file_extension": ".py",
   "mimetype": "text/x-python",
   "name": "python",
   "nbconvert_exporter": "python",
   "pygments_lexer": "ipython2",
   "version": "2.7.6"
  }
 },
 "nbformat": 4,
 "nbformat_minor": 5
}
