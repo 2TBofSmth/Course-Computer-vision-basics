{
 "cells": [
  {
   "cell_type": "code",
   "execution_count": 16,
   "id": "initial_id",
   "metadata": {
    "collapsed": true,
    "ExecuteTime": {
     "end_time": "2024-10-10T16:44:03.240283400Z",
     "start_time": "2024-10-10T16:44:03.206788100Z"
    }
   },
   "outputs": [],
   "source": [
    "import numpy as np\n",
    "import cv2"
   ]
  },
  {
   "cell_type": "code",
   "execution_count": 22,
   "outputs": [],
   "source": [
    "def to_grayscale(img):\n",
    "    height, width, _ = img.shape\n",
    "    grayscale_img = np.zeros((height, width), dtype=np.uint8)\n",
    "\n",
    "    for i in range(height):\n",
    "        for j in range(width):\n",
    "            pixel = img[i, j]\n",
    "            gray_value = 0.11 * pixel[0] + 0.53 * pixel[1] + 0.36 * pixel[2]\n",
    "            grayscale_img[i, j] = gray_value\n",
    "\n",
    "    return grayscale_img\n",
    "\n",
    "\n",
    "def otsu(grayscale_img):\n",
    "    height, width = grayscale_img.shape\n",
    "    histogram = np.zeros(256)\n",
    "\n",
    "    for i in range(height):\n",
    "        for j in range(width):\n",
    "            pixel = grayscale_img[i, j]\n",
    "            histogram[pixel] += 1\n",
    "\n",
    "    pixel_amount = height * width\n",
    "    probs = histogram / pixel_amount\n",
    "\n",
    "    total_variances = []\n",
    "    for i in range(256):\n",
    "        q1 = sum(probs[:i])\n",
    "        q2 = sum(probs[i + 1:])\n",
    "\n",
    "        if q1 == 0 or q2 == 0:\n",
    "            continue\n",
    "\n",
    "        mu1 = sum([(x * probs[x]) / q1 for x in range(i)])\n",
    "        mu2 = sum([(x * probs[x]) / q2 for x in range(i + 1, 256)])\n",
    "\n",
    "        variance_1 = sum([((x - mu1) ** 2) * (probs[x] / q1) for x in range(i)]) ** 2\n",
    "        variance_2 = sum([((x - mu2) ** 2) * (probs[x] / q2) for x in range(i + 1, 256)]) ** 2\n",
    "\n",
    "        total_variances.append((q1 * variance_1 + q2 * variance_2) ** 2)\n",
    "\n",
    "    return total_variances.index(min(total_variances))\n",
    "\n",
    "\n",
    "def create_binary_mask(grayscale_img, threshold):\n",
    "    height, width = grayscale_img.shape\n",
    "    for i in range(height):\n",
    "        for j in range(width):\n",
    "            if grayscale_img[i, j] < threshold:\n",
    "                grayscale_img[i, j] = 1\n",
    "            else:\n",
    "                grayscale_img[i, j] = 0\n",
    "\n",
    "    return grayscale_img"
   ],
   "metadata": {
    "collapsed": false,
    "ExecuteTime": {
     "end_time": "2024-10-10T16:46:40.814631400Z",
     "start_time": "2024-10-10T16:46:40.788667600Z"
    }
   },
   "id": "2eb67ca179b6d140"
  },
  {
   "cell_type": "code",
   "execution_count": 35,
   "outputs": [],
   "source": [
    "image_path = 'data/text_img3.png'\n",
    "image = cv2.imread(image_path)"
   ],
   "metadata": {
    "collapsed": false,
    "ExecuteTime": {
     "end_time": "2024-10-10T16:58:37.417889Z",
     "start_time": "2024-10-10T16:58:37.390792600Z"
    }
   },
   "id": "b459b669dd201bf3"
  },
  {
   "cell_type": "code",
   "execution_count": 36,
   "outputs": [
    {
     "data": {
      "text/plain": "True"
     },
     "execution_count": 36,
     "metadata": {},
     "output_type": "execute_result"
    }
   ],
   "source": [
    "t = otsu(to_grayscale(image))\n",
    "mask = create_binary_mask(to_grayscale(image), t)\n",
    "mask = np.array(mask * 255, dtype=np.uint8)\n",
    "colored_mask = cv2.cvtColor(mask, cv2.COLOR_GRAY2BGR)\n",
    "masked_image = cv2.bitwise_and(image, colored_mask)\n",
    "cv2.imwrite('result.png', masked_image)"
   ],
   "metadata": {
    "collapsed": false,
    "ExecuteTime": {
     "end_time": "2024-10-10T16:58:46.381231800Z",
     "start_time": "2024-10-10T16:58:38.974591900Z"
    }
   },
   "id": "e65d39585c4d29cc"
  }
 ],
 "metadata": {
  "kernelspec": {
   "display_name": "Python 3",
   "language": "python",
   "name": "python3"
  },
  "language_info": {
   "codemirror_mode": {
    "name": "ipython",
    "version": 2
   },
   "file_extension": ".py",
   "mimetype": "text/x-python",
   "name": "python",
   "nbconvert_exporter": "python",
   "pygments_lexer": "ipython2",
   "version": "2.7.6"
  }
 },
 "nbformat": 4,
 "nbformat_minor": 5
}
